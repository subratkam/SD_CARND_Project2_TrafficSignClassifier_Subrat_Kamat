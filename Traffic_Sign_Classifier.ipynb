{
 "cells": [
  {
   "cell_type": "markdown",
   "metadata": {},
   "source": [
    "# Self-Driving Car Engineer Nanodegree\n",
    "\n",
    "## Deep Learning\n",
    "\n",
    "## Project: Build a Traffic Sign Recognition Classifier\n",
    "\n",
    "In this notebook, a template is provided for you to implement your functionality in stages, which is required to successfully complete this project. If additional code is required that cannot be included in the notebook, be sure that the Python code is successfully imported and included in your submission if necessary. \n",
    "\n",
    "> **Note**: Once you have completed all of the code implementations, you need to finalize your work by exporting the iPython Notebook as an HTML document. Before exporting the notebook to html, all of the code cells need to have been run so that reviewers can see the final implementation and output. You can then export the notebook by using the menu above and navigating to  \\n\",\n",
    "    \"**File -> Download as -> HTML (.html)**. Include the finished document along with this notebook as your submission. \n",
    "\n",
    "In addition to implementing code, there is a writeup to complete. The writeup should be completed in a separate file, which can be either a markdown file or a pdf document. There is a [write up template](https://github.com/udacity/CarND-Traffic-Sign-Classifier-Project/blob/master/writeup_template.md) that can be used to guide the writing process. Completing the code template and writeup template will cover all of the [rubric points](https://review.udacity.com/#!/rubrics/481/view) for this project.\n",
    "\n",
    "The [rubric](https://review.udacity.com/#!/rubrics/481/view) contains \"Stand Out Suggestions\" for enhancing the project beyond the minimum requirements. The stand out suggestions are optional. If you decide to pursue the \"stand out suggestions\", you can include the code in this Ipython notebook and also discuss the results in the writeup file.\n",
    "\n",
    "\n",
    ">**Note:** Code and Markdown cells can be executed using the **Shift + Enter** keyboard shortcut. In addition, Markdown cells can be edited by typically double-clicking the cell to enter edit mode."
   ]
  },
  {
   "cell_type": "markdown",
   "metadata": {},
   "source": [
    "---\n",
    "## Step 0: Load The Data"
   ]
  },
  {
   "cell_type": "code",
   "execution_count": 88,
   "metadata": {
    "collapsed": false
   },
   "outputs": [],
   "source": [
    "# Load pickled data\n",
    "import pickle\n",
    "\n",
    "# TODO: Fill this in based on where you saved the training and testing data\n",
    "\n",
    "training_file = '/Users/subratkam/CarND-Traffic-Sign-Classifier-Project/traffic-signs-data/train.p'\n",
    "validation_file='/Users/subratkam/CarND-Traffic-Sign-Classifier-Project/traffic-signs-data/valid.p'\n",
    "testing_file = '/Users/subratkam/CarND-Traffic-Sign-Classifier-Project/traffic-signs-data/test.p'\n",
    "\n",
    "with open(training_file, mode='rb') as f:\n",
    "    train = pickle.load(f)\n",
    "with open(validation_file, mode='rb') as f:\n",
    "    valid = pickle.load(f)\n",
    "with open(testing_file, mode='rb') as f:\n",
    "    test = pickle.load(f)\n",
    "    \n",
    "X_train, y_train = train['features'], train['labels']\n",
    "X_valid, y_valid = valid['features'], valid['labels']\n",
    "X_test, y_test = test['features'], test['labels']\n",
    "\n"
   ]
  },
  {
   "cell_type": "markdown",
   "metadata": {},
   "source": [
    "---\n",
    "\n",
    "## Step 1: Dataset Summary & Exploration\n",
    "\n",
    "The pickled data is a dictionary with 4 key/value pairs:\n",
    "\n",
    "- `'features'` is a 4D array containing raw pixel data of the traffic sign images, (num examples, width, height, channels).\n",
    "- `'labels'` is a 1D array containing the label/class id of the traffic sign. The file `signnames.csv` contains id -> name mappings for each id.\n",
    "- `'sizes'` is a list containing tuples, (width, height) representing the the original width and height the image.\n",
    "- `'coords'` is a list containing tuples, (x1, y1, x2, y2) representing coordinates of a bounding box around the sign in the image. **THESE COORDINATES ASSUME THE ORIGINAL IMAGE. THE PICKLED DATA CONTAINS RESIZED VERSIONS (32 by 32) OF THESE IMAGES**\n",
    "\n",
    "Complete the basic data summary below. Use python, numpy and/or pandas methods to calculate the data summary rather than hard coding the results. For example, the [pandas shape method](http://pandas.pydata.org/pandas-docs/stable/generated/pandas.DataFrame.shape.html) might be useful for calculating some of the summary results. "
   ]
  },
  {
   "cell_type": "markdown",
   "metadata": {},
   "source": [
    "### Provide a Basic Summary of the Data Set Using Python, Numpy and/or Pandas"
   ]
  },
  {
   "cell_type": "code",
   "execution_count": 89,
   "metadata": {
    "collapsed": false
   },
   "outputs": [
    {
     "name": "stdout",
     "output_type": "stream",
     "text": [
      "Number of training examples = 34799\n",
      "Number of testing examples = 12630\n",
      "Image data shape = (32, 32, 3)\n",
      "Number of classes = 43\n"
     ]
    }
   ],
   "source": [
    "### Replace each question mark with the appropriate value. \n",
    "### Use python, pandas or numpy methods rather than hard coding the results\n",
    "\n",
    "# TODO: Number of training examples\n",
    "n_train = len(X_train)\n",
    "\n",
    "# TODO: Number of testing examples.\n",
    "n_test = len(X_test)\n",
    "\n",
    "# TODO: What's the shape of an traffic sign image?\n",
    "image_shape = X_train[0].shape\n",
    "\n",
    "# TODO: How many unique classes/labels there are in the dataset.\n",
    "n_classes = len(set(y_train))\n",
    "\n",
    "print(\"Number of training examples =\", n_train)\n",
    "print(\"Number of testing examples =\", n_test)\n",
    "print(\"Image data shape =\", image_shape)\n",
    "print(\"Number of classes =\", n_classes)"
   ]
  },
  {
   "cell_type": "markdown",
   "metadata": {},
   "source": [
    "### Include an exploratory visualization of the dataset"
   ]
  },
  {
   "cell_type": "markdown",
   "metadata": {},
   "source": [
    "Visualize the German Traffic Signs Dataset using the pickled file(s). This is open ended, suggestions include: plotting traffic sign images, plotting the count of each sign, etc.\n",
    "\n",
    "The [Matplotlib](http://matplotlib.org/) [examples](http://matplotlib.org/examples/index.html) and [gallery](http://matplotlib.org/gallery.html) pages are a great resource for doing visualizations in Python.\n",
    "\n",
    "**NOTE:** It's recommended you start with something simple first. If you wish to do more, come back to it after you've completed the rest of the sections."
   ]
  },
  {
   "cell_type": "code",
   "execution_count": 90,
   "metadata": {
    "collapsed": false
   },
   "outputs": [
    {
     "name": "stdout",
     "output_type": "stream",
     "text": [
      "Below are randomly selected three images and their labels are 17, 2 and 12 respectively\n"
     ]
    },
    {
     "data": {
      "image/png": "[encoded data removed]",
      "text/plain": [
       "<matplotlib.figure.Figure at 0x118f12cc0>"
      ]
     },
     "metadata": {},
     "output_type": "display_data"
    },
    {
     "data": {
      "image/png": "[encoded data removed]",
      "text/plain": [
       "<matplotlib.figure.Figure at 0x11754b3c8>"
      ]
     },
     "metadata": {},
     "output_type": "display_data"
    },
    {
     "data": {
      "image/png": "[encoded data removed]",
      "text/plain": [
       "<matplotlib.figure.Figure at 0x12693ada0>"
      ]
     },
     "metadata": {},
     "output_type": "display_data"
    },
    {
     "data": {
      "image/png": "[encoded data removed]",
      "text/plain": [
       "<matplotlib.figure.Figure at 0x12694e4a8>"
      ]
     },
     "metadata": {},
     "output_type": "display_data"
    }
   ],
   "source": [
    "### Data exploration visualization code goes here.\n",
    "### Feel free to use as many code cells as needed.\n",
    "import random\n",
    "import numpy as np\n",
    "import matplotlib.pyplot as plt\n",
    "\n",
    "# Visualizations will be shown in the notebook.\n",
    "#Plotting randomly selected three images\n",
    "%matplotlib inline\n",
    "index = random.sample(range(0, len(X_train)),3)\n",
    "image1 = X_train[index[0]].squeeze()\n",
    "\n",
    "image2 = X_train[index[1]].squeeze()\n",
    "\n",
    "image3 = X_train[index[2]].squeeze()\n",
    "print('Below are randomly selected three images and their labels are {}, {} and {} respectively'.format(y_train[index[0]],y_train[index[1]],y_train[index[2]]))\n",
    "\n",
    "plt.figure(figsize=(2,2))\n",
    "plt.imshow(image1)\n",
    "\n",
    "plt.figure(figsize=(2,2))\n",
    "plt.imshow(image2)\n",
    "\n",
    "plt.figure(figsize=(2,2))\n",
    "plt.imshow(image3)\n",
    "\n",
    "#Plotting a bar graph to count the number of images per label from the training set\n",
    "#Setting the x and y axis arrays\n",
    "x_plot = np.array(range(0,len(set(y_train))))\n",
    "y_plot = np.int_(np.zeros(len(set(y_train))))\n",
    "#Calculating the number of images per label and storing in y_plot array\n",
    "count = 0\n",
    "for t in range(0,len(x_plot)):\n",
    "    temp = x_plot[t]\n",
    "    count = 0\n",
    "    for r in range(0,len(y_train)):\n",
    "        if y_train[r]==temp:\n",
    "            count = count+1\n",
    "        else:\n",
    "            count = count\n",
    "    y_plot[t] = count\n",
    "\n",
    "#Plotting the bar graph using plt.bar command\n",
    "fig = plt.subplots(figsize=(25,10))\n",
    "plt.bar(x_plot, y_plot)\n",
    "plt.xlabel('Image Labels')\n",
    "plt.ylabel('Number of images')\n",
    "plt.title('Image Visualization - Number of images per label')\n",
    "plt.show()\n",
    "\n",
    "\n"
   ]
  },
  {
   "cell_type": "markdown",
   "metadata": {},
   "source": [
    "----\n",
    "\n",
    "## Step 2: Design and Test a Model Architecture\n",
    "\n",
    "Design and implement a deep learning model that learns to recognize traffic signs. Train and test your model on the [German Traffic Sign Dataset](http://benchmark.ini.rub.de/?section=gtsrb&subsection=dataset).\n",
    "\n",
    "There are various aspects to consider when thinking about this problem:\n",
    "\n",
    "- Neural network architecture\n",
    "- Play around preprocessing techniques (normalization, rgb to grayscale, etc)\n",
    "- Number of examples per label (some have more than others).\n",
    "- Generate fake data.\n",
    "\n",
    "Here is an example of a [published baseline model on this problem](http://yann.lecun.com/exdb/publis/pdf/sermanet-ijcnn-11.pdf). It's not required to be familiar with the approach used in the paper but, it's good practice to try to read papers like these.\n",
    "\n",
    "**NOTE:** The LeNet-5 implementation shown in the [classroom](https://classroom.udacity.com/nanodegrees/nd013/parts/fbf77062-5703-404e-b60c-95b78b2f3f9e/modules/6df7ae49-c61c-4bb2-a23e-6527e69209ec/lessons/601ae704-1035-4287-8b11-e2c2716217ad/concepts/d4aca031-508f-4e0b-b493-e7b706120f81) at the end of the CNN lesson is a solid starting point. You'll have to change the number of classes and possibly the preprocessing, but aside from that it's plug and play!"
   ]
  },
  {
   "cell_type": "markdown",
   "metadata": {},
   "source": [
    "### Pre-process the Data Set (normalization, grayscale, etc.)"
   ]
  },
  {
   "cell_type": "markdown",
   "metadata": {},
   "source": [
    "Use the code cell (or multiple code cells, if necessary) to implement the first step of your project."
   ]
  },
  {
   "cell_type": "code",
   "execution_count": 91,
   "metadata": {
    "collapsed": false
   },
   "outputs": [],
   "source": [
    "### Preprocess the data here. Preprocessing steps could include normalization, converting to grayscale, etc.\n",
    "### Feel free to use as many code cells as needed.\n",
    "\n",
    "#Normalizing the data \n",
    "#As there are three layers representing the RGB colors, the simplest way to normalize the data is by subtracting them by 128 and dividing by 128\n",
    "#Image_norm = (Image-128/128) will apply to all layers \n",
    "X_train_norm = np.zeros(X_train.shape)\n",
    "X_train_norm = (X_train-128.)/128.\n",
    "\n",
    "\n",
    "X_valid_norm = np.zeros(X_valid.shape)\n",
    "X_valid_norm = (X_valid-128.)/128.\n",
    "\n",
    "\n",
    "X_test_norm = np.zeros(X_test.shape)\n",
    "X_test_norm = (X_test-128.)/128.\n",
    "\n",
    "\n",
    "\n"
   ]
  },
  {
   "cell_type": "code",
   "execution_count": 92,
   "metadata": {
    "collapsed": true
   },
   "outputs": [],
   "source": [
    "# Shuffling the training data\n",
    "from sklearn.utils import shuffle\n",
    "\n",
    "X_train_norm, y_train = shuffle(X_train_norm, y_train)"
   ]
  },
  {
   "cell_type": "markdown",
   "metadata": {},
   "source": [
    "### Model Architecture"
   ]
  },
  {
   "cell_type": "code",
   "execution_count": 93,
   "metadata": {
    "collapsed": true
   },
   "outputs": [],
   "source": [
    "### Define your architecture here.\n",
    "### Feel free to use as many code cells as needed.\n",
    "#Setting the epochs and batch size for training accuracy and speed\n",
    "import tensorflow as tf\n",
    "\n",
    "EPOCHS = 16\n",
    "BATCH_SIZE = 64\n",
    "\n",
    "#Setting up the model architecture - using a Le-Net architecture\n",
    "from tensorflow.contrib.layers import flatten\n",
    "\n",
    "def LeNet(x):    \n",
    "    # Arguments used for tf.truncated_normal, randomly defines variables for the weights and biases for each layer\n",
    "    mu = 0\n",
    "    sigma = 0.1\n",
    "    \n",
    "    # Layer 1: Convolutional. Input = 32x32x3. Output = 28x28x6.\n",
    "    Weight_Cnv1 = tf.Variable(tf.truncated_normal([5,5,3,6],mean = mu, stddev = sigma))\n",
    "    Bias_Cnv1 = tf.Variable(tf.zeros(6))\n",
    "    Cnv1 = tf.nn.conv2d(x, Weight_Cnv1, strides=[1, 1, 1, 1], padding='VALID')\n",
    "    Cnv1 = tf.nn.bias_add(Cnv1,Bias_Cnv1 )\n",
    "    \n",
    "    \n",
    "    # Activation.\n",
    "    Cnv1 = tf.nn.relu(Cnv1)\n",
    "\n",
    "    # Pooling. Input = 28x28x6. Output = 14x14x6.\n",
    "    Cnv1 = tf.nn.max_pool(Cnv1, ksize=[1, 2, 2, 1], strides=[1, 2, 2, 1], padding='VALID')\n",
    "\n",
    "    # Layer 2: Convolutional. Output = 10x10x16.\n",
    "    Weight_Cnv2 = tf.Variable(tf.truncated_normal([5,5,6,16],mean = mu, stddev = sigma))\n",
    "    Bias_Cnv2 = tf.Variable(tf.zeros(16))\n",
    "    Cnv2 = tf.nn.conv2d(Cnv1, Weight_Cnv2, strides=[1, 1, 1, 1], padding='VALID')\n",
    "    Cnv2 = tf.nn.bias_add(Cnv2,Bias_Cnv2 )\n",
    "    \n",
    "    # Activation.\n",
    "    Cnv2 = tf.nn.relu(Cnv2)\n",
    "\n",
    "    # Pooling. Input = 10x10x16. Output = 5x5x16.\n",
    "    Cnv2 = tf.nn.max_pool(Cnv2, ksize=[1, 2, 2, 1], strides=[1, 2, 2, 1], padding='VALID')\n",
    "\n",
    "    # Flatten. Input = 5x5x16. Output = 400.\n",
    "    Features = flatten(Cnv2)\n",
    "    \n",
    "    # Layer 3: Fully Connected. Input = 400. Output = 120.\n",
    "    Weight_L3 = tf.Variable(tf.truncated_normal([400,120],mean = mu, stddev = sigma))\n",
    "    Bias_L3 = tf.Variable(tf.zeros(120))\n",
    "    fc1 = tf.add(tf.matmul(Features, Weight_L3), Bias_L3)\n",
    "    \n",
    "    \n",
    "    # Activation.\n",
    "    fc1 = tf.nn.relu(fc1)\n",
    "\n",
    "    # Layer 4: Fully Connected. Input = 120. Output = 84.\n",
    "    Weight_L4 = tf.Variable(tf.truncated_normal([120,84],mean = mu, stddev = sigma))\n",
    "    Bias_L4 = tf.Variable(tf.zeros(84))\n",
    "    fc2 = tf.add(tf.matmul(fc1, Weight_L4), Bias_L4)\n",
    "    # Activation.\n",
    "    fc2 = tf.nn.relu(fc2)\n",
    "\n",
    "    # Layer 5: Fully Connected. Input = 84. Output = 43.\n",
    "    Weight_L5 = tf.Variable(tf.truncated_normal([84,43],mean = mu, stddev = sigma))\n",
    "    Bias_L5 = tf.Variable(tf.zeros(43))\n",
    "    logits = tf.add(tf.matmul(fc2, Weight_L5), Bias_L5)\n",
    "    \n",
    "    return logits"
   ]
  },
  {
   "cell_type": "markdown",
   "metadata": {},
   "source": [
    "### Train, Validate and Test the Model"
   ]
  },
  {
   "cell_type": "markdown",
   "metadata": {},
   "source": [
    "A validation set can be used to assess how well the model is performing. A low accuracy on the training and validation\n",
    "sets imply underfitting. A high accuracy on the test set but low accuracy on the validation set implies overfitting."
   ]
  },
  {
   "cell_type": "code",
   "execution_count": 94,
   "metadata": {
    "collapsed": true
   },
   "outputs": [],
   "source": [
    "### Train your model here.\n",
    "### Calculate and report the accuracy on the training and validation set.\n",
    "### Once a final model architecture is selected, \n",
    "### the accuracy on the test set should be calculated and reported as well.\n",
    "### Feel free to use as many code cells as needed.\n",
    "\n",
    "#x is a placeholder for a batch of input images. y is a placeholder for a batch of output labels.\n",
    "x = tf.placeholder(tf.float32, (None, 32, 32, 3))\n",
    "y = tf.placeholder(tf.int32, (None))\n",
    "one_hot_y = tf.one_hot(y, 43)"
   ]
  },
  {
   "cell_type": "code",
   "execution_count": 96,
   "metadata": {
    "collapsed": true
   },
   "outputs": [],
   "source": [
    "#Creating a training pipeline that uses the model to classify the German traffic signs data set\n",
    "rate = 0.001\n",
    "\n",
    "logits = LeNet(x)\n",
    "cross_entropy = tf.nn.softmax_cross_entropy_with_logits(logits, one_hot_y)\n",
    "loss_operation = tf.reduce_mean(cross_entropy)\n",
    "optimizer = tf.train.AdamOptimizer(learning_rate = rate)\n",
    "training_operation = optimizer.minimize(loss_operation)"
   ]
  },
  {
   "cell_type": "code",
   "execution_count": 97,
   "metadata": {
    "collapsed": true
   },
   "outputs": [],
   "source": [
    "#Evaluating how well the loss and accuracy of the model for a given German traffic signs data set\n",
    "correct_prediction = tf.equal(tf.argmax(logits, 1), tf.argmax(one_hot_y, 1))\n",
    "accuracy_operation = tf.reduce_mean(tf.cast(correct_prediction, tf.float32))\n",
    "saver = tf.train.Saver()\n",
    "\n",
    "def evaluate(X_data, y_data):\n",
    "    num_examples = len(X_data)\n",
    "    total_accuracy = 0\n",
    "    sess = tf.get_default_session()\n",
    "    for offset in range(0, num_examples, BATCH_SIZE):\n",
    "        batch_x, batch_y = X_data[offset:offset+BATCH_SIZE], y_data[offset:offset+BATCH_SIZE]\n",
    "        accuracy = sess.run(accuracy_operation, feed_dict={x: batch_x, y: batch_y})\n",
    "        total_accuracy += (accuracy * len(batch_x))\n",
    "    return total_accuracy / num_examples"
   ]
  },
  {
   "cell_type": "code",
   "execution_count": 98,
   "metadata": {
    "collapsed": false
   },
   "outputs": [
    {
     "name": "stdout",
     "output_type": "stream",
     "text": [
      "Training...\n",
      "\n",
      "EPOCH 1 ...\n",
      "Training Accuracy = 0.913\n",
      "\n",
      "Validation Accuracy = 0.840\n",
      "\n",
      "EPOCH 2 ...\n",
      "Training Accuracy = 0.964\n",
      "\n",
      "Validation Accuracy = 0.891\n",
      "\n",
      "EPOCH 3 ...\n",
      "Training Accuracy = 0.964\n",
      "\n",
      "Validation Accuracy = 0.894\n",
      "\n",
      "EPOCH 4 ...\n",
      "Training Accuracy = 0.982\n",
      "\n",
      "Validation Accuracy = 0.907\n",
      "\n",
      "EPOCH 5 ...\n",
      "Training Accuracy = 0.984\n",
      "\n",
      "Validation Accuracy = 0.923\n",
      "\n",
      "EPOCH 6 ...\n",
      "Training Accuracy = 0.994\n",
      "\n",
      "Validation Accuracy = 0.926\n",
      "\n",
      "EPOCH 7 ...\n",
      "Training Accuracy = 0.986\n",
      "\n",
      "Validation Accuracy = 0.926\n",
      "\n",
      "EPOCH 8 ...\n",
      "Training Accuracy = 0.994\n",
      "\n",
      "Validation Accuracy = 0.918\n",
      "\n",
      "EPOCH 9 ...\n",
      "Training Accuracy = 0.988\n",
      "\n",
      "Validation Accuracy = 0.924\n",
      "\n",
      "EPOCH 10 ...\n",
      "Training Accuracy = 0.995\n",
      "\n",
      "Validation Accuracy = 0.937\n",
      "\n",
      "EPOCH 11 ...\n",
      "Training Accuracy = 0.995\n",
      "\n",
      "Validation Accuracy = 0.945\n",
      "\n",
      "EPOCH 12 ...\n",
      "Training Accuracy = 0.995\n",
      "\n",
      "Validation Accuracy = 0.936\n",
      "\n",
      "EPOCH 13 ...\n",
      "Training Accuracy = 0.994\n",
      "\n",
      "Validation Accuracy = 0.930\n",
      "\n",
      "EPOCH 14 ...\n",
      "Training Accuracy = 0.997\n",
      "\n",
      "Validation Accuracy = 0.933\n",
      "\n",
      "EPOCH 15 ...\n",
      "Training Accuracy = 0.996\n",
      "\n",
      "Validation Accuracy = 0.945\n",
      "\n",
      "EPOCH 16 ...\n",
      "Training Accuracy = 0.996\n",
      "\n",
      "Validation Accuracy = 0.952\n",
      "\n",
      "Model saved\n"
     ]
    }
   ],
   "source": [
    "#Running the training data through a training pipeline to train the model.\n",
    "#Before each epoch the code shuffles the training set.\n",
    "#After each epoch, measure the loss and accuracy of the validation set.\n",
    "\n",
    "with tf.Session() as sess:\n",
    "    sess.run(tf.global_variables_initializer())\n",
    "    num_examples = len(X_train_norm)\n",
    "    \n",
    "    print(\"Training...\")\n",
    "    print()\n",
    "    for i in range(EPOCHS):\n",
    "        X_train_norm, y_train = shuffle(X_train_norm, y_train)\n",
    "        for offset in range(0, num_examples, BATCH_SIZE):\n",
    "            end = offset + BATCH_SIZE\n",
    "            batch_x, batch_y = X_train_norm[offset:end], y_train[offset:end]\n",
    "            sess.run(training_operation, feed_dict={x: batch_x, y: batch_y})\n",
    "        \n",
    "        training_accuracy = evaluate(X_train_norm, y_train)\n",
    "        print(\"EPOCH {} ...\".format(i+1))\n",
    "        print(\"Training Accuracy = {:.3f}\".format(training_accuracy))\n",
    "        print()    \n",
    "        validation_accuracy = evaluate(X_valid_norm, y_valid)\n",
    "        #print(\"EPOCH {} ...\".format(i+1))\n",
    "        print(\"Validation Accuracy = {:.3f}\".format(validation_accuracy))\n",
    "        print()\n",
    "        \n",
    "    saver.save(sess, './lenet')\n",
    "    print(\"Model saved\")"
   ]
  },
  {
   "cell_type": "code",
   "execution_count": 157,
   "metadata": {
    "collapsed": false
   },
   "outputs": [
    {
     "name": "stdout",
     "output_type": "stream",
     "text": [
      "Test Accuracy = 0.916\n"
     ]
    }
   ],
   "source": [
    "#Calculating the accuracy of the model with respect to test set\n",
    "with tf.Session() as sess:\n",
    "    saver.restore(sess, tf.train.latest_checkpoint('.'))\n",
    "\n",
    "    test_accuracy = evaluate(X_test_norm, y_test)\n",
    "    print(\"Test Accuracy = {:.3f}\".format(test_accuracy))"
   ]
  },
  {
   "cell_type": "markdown",
   "metadata": {},
   "source": [
    "---\n",
    "\n",
    "## Step 3: Test a Model on New Images\n",
    "\n",
    "To give yourself more insight into how your model is working, download at least five pictures of German traffic signs from the web and use your model to predict the traffic sign type.\n",
    "\n",
    "You may find `signnames.csv` useful as it contains mappings from the class id (integer) to the actual sign name."
   ]
  },
  {
   "cell_type": "markdown",
   "metadata": {},
   "source": [
    "### Load and Output the Images"
   ]
  },
  {
   "cell_type": "code",
   "execution_count": 283,
   "metadata": {
    "collapsed": false
   },
   "outputs": [
    {
     "name": "stdout",
     "output_type": "stream",
     "text": [
      "Below are the 5 German traffic sign images that I pulled out from the internet:\n"
     ]
    },
    {
     "data": {
      "image/png": "[encoded data removed]",
      "text/plain": [
       "<matplotlib.figure.Figure at 0x11c6c0630>"
      ]
     },
     "metadata": {},
     "output_type": "display_data"
    },
    {
     "data": {
      "image/png": "[encoded data removed]",
      "text/plain": [
       "<matplotlib.figure.Figure at 0x11c9f3940>"
      ]
     },
     "metadata": {},
     "output_type": "display_data"
    },
    {
     "data": {
      "image/png": "[encoded data removed]",
      "text/plain": [
       "<matplotlib.figure.Figure at 0x11ca6c7f0>"
      ]
     },
     "metadata": {},
     "output_type": "display_data"
    },
    {
     "data": {
      "image/png": "[encoded data removed]",
      "text/plain": [
       "<matplotlib.figure.Figure at 0x122e28978>"
      ]
     },
     "metadata": {},
     "output_type": "display_data"
    },
    {
     "data": {
      "image/png": "[encoded data removed]",
      "text/plain": [
       "<matplotlib.figure.Figure at 0x11ede1f28>"
      ]
     },
     "metadata": {},
     "output_type": "display_data"
    }
   ],
   "source": [
    "### Load the images and plot them here.\n",
    "### Feel free to use as many code cells as needed.\n",
    "\n",
    "\n",
    "#Loading images\n",
    "import cv2\n",
    "Stop_Sign_Image = '/Users/subratkam/CarND-Traffic-Sign-Classifier-Project/NEW_GERMAN_SIGNS/STOP_SIGN.png'\n",
    "temp_image_stop = cv2.imread(Stop_Sign_Image)\n",
    "temp_image_stop = cv2.cvtColor(temp_image_stop, cv2.COLOR_BGR2RGB)\n",
    "Image1 = temp_image_stop.squeeze()\n",
    "\n",
    "Bumpy_road_Image = '/Users/subratkam/CarND-Traffic-Sign-Classifier-Project/NEW_GERMAN_SIGNS/bumpy_road.jpg'\n",
    "temp_image_Bumpy_road = cv2.imread(Bumpy_road_Image)\n",
    "temp_image_Bumpy_road = cv2.cvtColor(temp_image_Bumpy_road, cv2.COLOR_BGR2RGB)\n",
    "Image2 = temp_image_Bumpy_road.squeeze()\n",
    "\n",
    "speed_limit_60_Image = '/Users/subratkam/CarND-Traffic-Sign-Classifier-Project/NEW_GERMAN_SIGNS/speed_limit_60.jpg'\n",
    "temp_image_spd_lmt_60 = cv2.imread(speed_limit_60_Image)\n",
    "temp_image_spd_lmt_60 = cv2.cvtColor(temp_image_spd_lmt_60, cv2.COLOR_BGR2RGB)\n",
    "Image3 = temp_image_spd_lmt_60.squeeze()\n",
    "\n",
    "Ahead_only_Image = '/Users/subratkam/CarND-Traffic-Sign-Classifier-Project/NEW_GERMAN_SIGNS/ahead_only.jpg'\n",
    "temp_image_Ahead_only = cv2.imread(Ahead_only_Image)\n",
    "temp_image_Ahead_only = cv2.cvtColor(temp_image_Ahead_only, cv2.COLOR_BGR2RGB)\n",
    "Image4 = temp_image_Ahead_only.squeeze()\n",
    "\n",
    "General_caution_Image = '/Users/subratkam/CarND-Traffic-Sign-Classifier-Project/NEW_GERMAN_SIGNS/General_Caution.jpg'\n",
    "General_caution_only = cv2.imread(General_caution_Image)\n",
    "General_caution_only = cv2.cvtColor(General_caution_only, cv2.COLOR_BGR2RGB)\n",
    "Image5 = General_caution_only.squeeze()\n",
    "\n",
    "#Plotting the images\n",
    "print('Below are the 5 German traffic sign images that I pulled out from the internet:')\n",
    "\n",
    "plt.figure(figsize=(2,2))\n",
    "plt.title('Stop Sign')\n",
    "plt.imshow(Image1)\n",
    "plt.figure(figsize=(2,2))\n",
    "plt.title('Bumpy road')\n",
    "plt.imshow(Image2)\n",
    "plt.figure(figsize=(2,2))\n",
    "plt.title('Speed Limit - 60 km/hr')\n",
    "plt.imshow(Image3)\n",
    "plt.figure(figsize=(2,2))\n",
    "plt.title('Ahead only')\n",
    "plt.imshow(Image4)\n",
    "plt.figure(figsize=(2,2))\n",
    "plt.title('General Caution')\n",
    "plt.imshow(Image5)\n",
    "plt.show()\n"
   ]
  },
  {
   "cell_type": "markdown",
   "metadata": {},
   "source": [
    "### Predict the Sign Type for Each Image"
   ]
  },
  {
   "cell_type": "code",
   "execution_count": 284,
   "metadata": {
    "collapsed": false
   },
   "outputs": [],
   "source": [
    "### Run the predictions here and use the model to output the prediction for each image.\n",
    "### Make sure to pre-process the images with the same pre-processing pipeline used earlier.\n",
    "### Feel free to use as many code cells as needed.\n",
    "\n",
    "#Stacking all the images into one array\n",
    "Five_new_images = np.array([temp_image_stop,temp_image_Bumpy_road,temp_image_spd_lmt_60,temp_image_Ahead_only,General_caution_only])\n",
    "Five_new_images.shape\n",
    "\n",
    "#Actual classID of the image which was refered from the signnames.csv file\n",
    "Five_new_images_y = np.array([14,22,3,35,18])\n",
    "\n"
   ]
  },
  {
   "cell_type": "code",
   "execution_count": 285,
   "metadata": {
    "collapsed": false
   },
   "outputs": [],
   "source": [
    "#Preprocessing Image\n",
    "Five_new_images_norm = np.zeros(Five_new_images.shape)\n",
    "Five_new_images_norm = (Five_new_images-128.)/128.\n"
   ]
  },
  {
   "cell_type": "code",
   "execution_count": 286,
   "metadata": {
    "collapsed": false
   },
   "outputs": [
    {
     "name": "stdout",
     "output_type": "stream",
     "text": [
      "The image prediction for Image 1 (stop sign) is Stop i.e. class ID 14\n",
      "The image prediction for Image 2 (Bumpy road sign) is Bumpy road i.e. class ID 22\n",
      "The image prediction for Image 3 (Speed Limit of 60 km/hr sign) is Speed limit (120km/h) i.e. class ID 8\n",
      "The image prediction for Image 4 (Ahead only sign) is Ahead only i.e. class ID 35\n",
      "The image prediction for Image 5 (General caution sign) is General caution i.e. class ID 18\n"
     ]
    }
   ],
   "source": [
    "#Predicting Image\n",
    "with tf.Session() as sess:\n",
    "    saver.restore(sess, tf.train.latest_checkpoint('.'))\n",
    "    image_predictions = sess.run(tf.argmax(logits, 1), feed_dict={x: Five_new_images_norm})\n",
    "    \n",
    "import pandas as pd\n",
    "df1=pd.read_csv(\"/Users/subratkam/CarND-Traffic-Sign-Classifier-Project/signnames.csv\",index_col=0,usecols=['ClassId','SignName'])\n",
    "\n",
    "print('The image prediction for Image 1 (stop sign) is {} i.e. class ID {}'.format(df1['SignName'][image_predictions[0]],image_predictions[0]))\n",
    "print('The image prediction for Image 2 (Bumpy road sign) is {} i.e. class ID {}'.format(df1['SignName'][image_predictions[1]],image_predictions[1]))\n",
    "print('The image prediction for Image 3 (Speed Limit of 60 km/hr sign) is {} i.e. class ID {}'.format(df1['SignName'][image_predictions[2]],image_predictions[2]))\n",
    "print('The image prediction for Image 4 (Ahead only sign) is {} i.e. class ID {}'.format(df1['SignName'][image_predictions[3]],image_predictions[3]))\n",
    "print('The image prediction for Image 5 (General caution sign) is {} i.e. class ID {}'.format(df1['SignName'][image_predictions[4]],image_predictions[4]))"
   ]
  },
  {
   "cell_type": "markdown",
   "metadata": {},
   "source": [
    "### Analyze Performance"
   ]
  },
  {
   "cell_type": "code",
   "execution_count": 287,
   "metadata": {
    "collapsed": false
   },
   "outputs": [
    {
     "name": "stdout",
     "output_type": "stream",
     "text": [
      "The accuracy of the model for the 5 new images is 80.0%\n"
     ]
    }
   ],
   "source": [
    "### Calculate the accuracy for these 5 new images. \n",
    "### For example, if the model predicted 1 out of 5 signs correctly, it's 20% accurate on these new images.\n",
    "#Calculating how many of the predicted class ID's matched with the actual class ID's\n",
    "Num_equal = np.sum(Five_new_images_y == image_predictions)\n",
    "#Calculating the accuracy percentage of the model on the images\n",
    "Accuracy_new_images = ((Num_equal/len(Five_new_images_y))*100)\n",
    "print('The accuracy of the model for the 5 new images is {}%'.format(Accuracy_new_images))"
   ]
  },
  {
   "cell_type": "markdown",
   "metadata": {},
   "source": [
    "### Output Top 5 Softmax Probabilities For Each Image Found on the Web"
   ]
  },
  {
   "cell_type": "markdown",
   "metadata": {},
   "source": [
    "For each of the new images, print out the model's softmax probabilities to show the **certainty** of the model's predictions (limit the output to the top 5 probabilities for each image). [`tf.nn.top_k`](https://www.tensorflow.org/versions/r0.12/api_docs/python/nn.html#top_k) could prove helpful here. \n",
    "\n",
    "The example below demonstrates how tf.nn.top_k can be used to find the top k predictions for each image.\n",
    "\n",
    "`tf.nn.top_k` will return the values and indices (class ids) of the top k predictions. So if k=3, for each sign, it'll return the 3 largest probabilities (out of a possible 43) and the correspoding class ids.\n",
    "\n",
    "Take this numpy array as an example. The values in the array represent predictions. The array contains softmax probabilities for five candidate images with six possible classes. `tk.nn.top_k` is used to choose the three classes with the highest probability:\n",
    "\n",
    "```\n",
    "# (5, 6) array\n",
    "a = np.array([[ 0.24879643,  0.07032244,  0.12641572,  0.34763842,  0.07893497,\n",
    "         0.12789202],\n",
    "       [ 0.28086119,  0.27569815,  0.08594638,  0.0178669 ,  0.18063401,\n",
    "         0.15899337],\n",
    "       [ 0.26076848,  0.23664738,  0.08020603,  0.07001922,  0.1134371 ,\n",
    "         0.23892179],\n",
    "       [ 0.11943333,  0.29198961,  0.02605103,  0.26234032,  0.1351348 ,\n",
    "         0.16505091],\n",
    "       [ 0.09561176,  0.34396535,  0.0643941 ,  0.16240774,  0.24206137,\n",
    "         0.09155967]])\n",
    "```\n",
    "\n",
    "Running it through `sess.run(tf.nn.top_k(tf.constant(a), k=3))` produces:\n",
    "\n",
    "```\n",
    "TopKV2(values=array([[ 0.34763842,  0.24879643,  0.12789202],\n",
    "       [ 0.28086119,  0.27569815,  0.18063401],\n",
    "       [ 0.26076848,  0.23892179,  0.23664738],\n",
    "       [ 0.29198961,  0.26234032,  0.16505091],\n",
    "       [ 0.34396535,  0.24206137,  0.16240774]]), indices=array([[3, 0, 5],\n",
    "       [0, 1, 4],\n",
    "       [0, 5, 1],\n",
    "       [1, 3, 5],\n",
    "       [1, 4, 3]], dtype=int32))\n",
    "```\n",
    "\n",
    "Looking just at the first row we get `[ 0.34763842,  0.24879643,  0.12789202]`, you can confirm these are the 3 largest probabilities in `a`. You'll also notice `[3, 0, 5]` are the corresponding indices."
   ]
  },
  {
   "cell_type": "code",
   "execution_count": 306,
   "metadata": {
    "collapsed": false
   },
   "outputs": [
    {
     "name": "stdout",
     "output_type": "stream",
     "text": [
      "The top five softmax probabilities for the Image 1 i.e. Stop sign prediction are: \n",
      "[  1.00000000e+00   4.49418565e-08   2.88376295e-10   1.00368238e-11\n",
      "   3.36159865e-13]\n",
      "The top five softmax predictions for the Image 1 are: \n",
      "ClassId\n",
      "14                    Stop\n",
      "29       Bicycles crossing\n",
      "3     Speed limit (60km/h)\n",
      "1     Speed limit (30km/h)\n",
      "5     Speed limit (80km/h)\n",
      "Name: SignName, dtype: object\n",
      "\n",
      "The top five softmax probabilities for the Image 2 i.e. Bumpy road sign prediction are: \n",
      "[  1.00000000e+00   4.86550770e-25   7.64814370e-28   1.50241028e-29\n",
      "   3.53226384e-32] \n",
      "The top five softmax predictions for the Image 2 are: \n",
      "ClassId\n",
      "22                      Bumpy road\n",
      "20    Dangerous curve to the right\n",
      "26                 Traffic signals\n",
      "25                       Road work\n",
      "29               Bicycles crossing\n",
      "Name: SignName, dtype: object\n",
      "\n",
      "The top five softmax probabilities for the Image 3 i.e. Speed limit of 60 km/hr sign prediction are: \n",
      "[  8.57222497e-01   1.42455995e-01   2.38559427e-04   4.12158915e-05\n",
      "   2.51803576e-05] \n",
      "The top five softmax predictions for the Image 3 are: \n",
      "ClassId\n",
      "8                        Speed limit (120km/h)\n",
      "40                        Roundabout mandatory\n",
      "16    Vehicles over 3.5 metric tons prohibited\n",
      "9                                   No passing\n",
      "20                Dangerous curve to the right\n",
      "Name: SignName, dtype: object\n",
      "\n",
      "The top five softmax probabilities for the Image 4 i.e. Ahead only sign prediction are: \n",
      "[  9.99862432e-01   1.37595314e-04   9.39412796e-16   1.19371385e-17\n",
      "   1.02871200e-17] \n",
      "The top five softmax predictions for the Image 4 are: \n",
      "ClassId\n",
      "35              Ahead only\n",
      "36    Go straight or right\n",
      "33        Turn right ahead\n",
      "40    Roundabout mandatory\n",
      "37     Go straight or left\n",
      "Name: SignName, dtype: object\n",
      "\n",
      "The top five softmax probabilities for the Image 5 i.e. General caution sign prediction are: \n",
      "[  9.99998927e-01   1.06596110e-06   6.84846731e-16   1.17216754e-22\n",
      "   4.81951989e-27] \n",
      "The top five softmax predictions for the Image 5 are: \n",
      "ClassId\n",
      "18                          General caution\n",
      "26                          Traffic signals\n",
      "27                              Pedestrians\n",
      "24                Road narrows on the right\n",
      "11    Right-of-way at the next intersection\n",
      "Name: SignName, dtype: object\n",
      "\n"
     ]
    }
   ],
   "source": [
    "### Print out the top five softmax probabilities for the predictions on the German traffic sign images found on the web. \n",
    "### Feel free to use as many code cells as needed.\n",
    "with tf.Session() as sess:\n",
    "    saver.restore(sess, tf.train.latest_checkpoint('.'))\n",
    "    image_softmax_new = sess.run(tf.nn.softmax(logits), feed_dict={x: Five_new_images_norm})\n",
    "    Top_five_softmax = sess.run(tf.nn.top_k(tf.constant(image_softmax_new), k=5))\n",
    "\n",
    "print('The top five softmax probabilities for the Image 1 i.e. Stop sign prediction are: \\n{}'. format(Top_five_softmax.values[0]))\n",
    "print('The top five softmax predictions for the Image 1 are: \\n{}\\n'.format(df1['SignName'][np.array(Top_five_softmax.indices[0])]))\n",
    "\n",
    "print('The top five softmax probabilities for the Image 2 i.e. Bumpy road sign prediction are: \\n{} '. format(Top_five_softmax.values[1]))\n",
    "print('The top five softmax predictions for the Image 2 are: \\n{}\\n'.format(df1['SignName'][np.array(Top_five_softmax.indices[1])]))\n",
    "\n",
    "print('The top five softmax probabilities for the Image 3 i.e. Speed limit of 60 km/hr sign prediction are: \\n{} '. format(Top_five_softmax.values[2]))\n",
    "print('The top five softmax predictions for the Image 3 are: \\n{}\\n'.format(df1['SignName'][np.array(Top_five_softmax.indices[2])]))\n",
    "\n",
    "print('The top five softmax probabilities for the Image 4 i.e. Ahead only sign prediction are: \\n{} '. format(Top_five_softmax.values[3]))\n",
    "print('The top five softmax predictions for the Image 4 are: \\n{}\\n'.format(df1['SignName'][np.array(Top_five_softmax.indices[3])]))\n",
    "\n",
    "print('The top five softmax probabilities for the Image 5 i.e. General caution sign prediction are: \\n{} '. format(Top_five_softmax.values[4]))\n",
    "print('The top five softmax predictions for the Image 5 are: \\n{}\\n'.format(df1['SignName'][np.array(Top_five_softmax.indices[4])]))\n",
    "\n",
    "\n"
   ]
  },
  {
   "cell_type": "markdown",
   "metadata": {},
   "source": [
    "Note: Below code is to save the exploration training dataset plot in the form of a jpg, had forgotten to do it above and can't run the above code again as it will disturb the order of how the code was run"
   ]
  },
  {
   "cell_type": "code",
   "execution_count": 307,
   "metadata": {
    "collapsed": false
   },
   "outputs": [
    {
     "data": {
      "image/png": "[encoded data removed]",
      "text/plain": [
       "<matplotlib.figure.Figure at 0x11fca4550>"
      ]
     },
     "metadata": {},
     "output_type": "display_data"
    },
    {
     "name": "stdout",
     "output_type": "stream",
     "text": [
      "Validation set is of length 4410\n"
     ]
    }
   ],
   "source": [
    "#Had forgotten to save the exploration training dataset plot as a jpg image so doing it here instead of disturbing anything above\n",
    "fig = plt.subplots(figsize=(25,10))\n",
    "plt.bar(x_plot, y_plot)\n",
    "plt.xlabel('Image Labels')\n",
    "plt.ylabel('Number of images')\n",
    "plt.title('Image Visualization - Number of images per label')\n",
    "plt.savefig('Exploratory_visualization.jpg')\n",
    "plt.close\n",
    "plt.show()\n",
    "\n",
    "#Also calculating the length of the validation set\n",
    "Valid_length = len(X_valid)\n",
    "print(\"Validation set is of length {}\".format(Valid_length))\n"
   ]
  },
  {
   "cell_type": "markdown",
   "metadata": {},
   "source": [
    "> **Note**: Once you have completed all of the code implementations, you need to finalize your work by exporting the IPython Notebook as an HTML document. Before exporting the notebook to html, all of the code cells need to have been run. You can then export the notebook by using the menu above and navigating to  \\n\",\n",
    "    \"**File -> Download as -> HTML (.html)**. Include the finished document along with this notebook as your submission. "
   ]
  },
  {
   "cell_type": "markdown",
   "metadata": {},
   "source": [
    "### Project Writeup\n",
    "\n",
    "Once you have completed the code implementation, document your results in a project writeup using this [template](https://github.com/udacity/CarND-Traffic-Sign-Classifier-Project/blob/master/writeup_template.md) as a guide. The writeup can be in a markdown or pdf file. "
   ]
  }
 ],
 "metadata": {
  "anaconda-cloud": {},
  "kernelspec": {
   "display_name": "Python 3",
   "language": "python",
   "name": "python3"
  },
  "language_info": {
   "codemirror_mode": {
    "name": "ipython",
    "version": 3
   },
   "file_extension": ".py",
   "mimetype": "text/x-python",
   "name": "python",
   "nbconvert_exporter": "python",
   "pygments_lexer": "ipython3",
   "version": "3.5.2"
  },
  "widgets": {
   "state": {},
   "version": "1.1.2"
  }
 },
 "nbformat": 4,
 "nbformat_minor": 1
}
